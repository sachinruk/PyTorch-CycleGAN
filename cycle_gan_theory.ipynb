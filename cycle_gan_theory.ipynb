{
 "cells": [
  {
   "cell_type": "markdown",
   "metadata": {},
   "source": [
    "# Cycle GANs\n",
    "\n",
    "For this tutorial I will assume that you already have an understanding of GANs.\n",
    "\n",
    "GANs in a nutshell:\n",
    "\n",
    "![](https://hardikbansal.github.io/CycleGANBlog/images/model.jpg)\n",
    "\n",
    "So basically we have two sets of GANs and Discrimintors as opposed to just one set. As with usual GANs we train the GAN and the discriminator on a turn by turn basis.\n",
    "\n",
    "## Generator Architecture\n",
    "https://hardikbansal.github.io/CycleGANBlog/#Building-the-generator\n",
    "\n",
    "## Loss functions\n",
    "There are 4 types of losses that we deal with. The three affecting the GANs are:\n",
    "1. Cycle Loss (we want to have GanA2B(GanB2A(B)) ~ B). \n",
    "2. Fooling Loss (we optimise the parameters so that it tries to fool the discriminator).\n",
    "3. Identity Loss (we want the image to be unaltered as possible, GanB2A(B) ~ B).\n",
    "\n",
    "And the final discrimnator loss is no different to normal GANs. We find the loss by classifying real images as real and generated images as fake and look at binary cross entropy.\n",
    "\n",
    "## References:\n",
    "1. All diagrams were adapted from: https://hardikbansal.github.io/CycleGANBlog/\n",
    "2. https://github.com/junyanz/CycleGAN\n",
    "3. "
   ]
  },
  {
   "cell_type": "code",
   "execution_count": null,
   "metadata": {},
   "outputs": [],
   "source": []
  }
 ],
 "metadata": {
  "kernelspec": {
   "display_name": "Python 3",
   "language": "python",
   "name": "python3"
  },
  "language_info": {
   "codemirror_mode": {
    "name": "ipython",
    "version": 3
   },
   "file_extension": ".py",
   "mimetype": "text/x-python",
   "name": "python",
   "nbconvert_exporter": "python",
   "pygments_lexer": "ipython3",
   "version": "3.6.3"
  }
 },
 "nbformat": 4,
 "nbformat_minor": 2
}
